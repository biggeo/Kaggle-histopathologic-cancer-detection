{
  "nbformat": 4,
  "nbformat_minor": 0,
  "metadata": {
    "colab": {
      "name": "pathotest1.ipynb",
      "provenance": [],
      "collapsed_sections": []
    },
    "kernelspec": {
      "name": "python3",
      "display_name": "Python 3"
    },
    "accelerator": "TPU"
  },
  "cells": [
    {
      "cell_type": "code",
      "metadata": {
        "id": "siyhUeYWDxol",
        "colab_type": "code",
        "colab": {}
      },
      "source": [
        ""
      ],
      "execution_count": null,
      "outputs": []
    },
    {
      "cell_type": "code",
      "metadata": {
        "id": "SpB5aDUXEHUJ",
        "colab_type": "code",
        "colab": {
          "base_uri": "https://localhost:8080/",
          "height": 35
        },
        "outputId": "284e3fc4-ba11-4d16-dcc2-b62a52e20083"
      },
      "source": [
        "from google.colab import drive\n",
        "drive.mount('/content/drive')"
      ],
      "execution_count": null,
      "outputs": [
        {
          "output_type": "stream",
          "text": [
            "Drive already mounted at /content/drive; to attempt to forcibly remount, call drive.mount(\"/content/drive\", force_remount=True).\n"
          ],
          "name": "stdout"
        }
      ]
    },
    {
      "cell_type": "code",
      "metadata": {
        "id": "rAnROg05ESQ2",
        "colab_type": "code",
        "colab": {
          "base_uri": "https://localhost:8080/",
          "height": 35
        },
        "outputId": "568f324a-d23b-42b7-fec2-6f05511e5350"
      },
      "source": [
        "!ls drive/My\\ Drive/Pathology/histopathologic-cancer-detection/test | wc -l"
      ],
      "execution_count": null,
      "outputs": [
        {
          "output_type": "stream",
          "text": [
            "14743\n"
          ],
          "name": "stdout"
        }
      ]
    },
    {
      "cell_type": "code",
      "metadata": {
        "id": "eJ1NNcAoEgNS",
        "colab_type": "code",
        "colab": {
          "base_uri": "https://localhost:8080/",
          "height": 35
        },
        "outputId": "0be55c27-8d2d-4218-c7d7-db48958252f9"
      },
      "source": [
        "!ls drive/My\\ Drive/Pathology/histopathologic-cancer-detection/train | wc -l"
      ],
      "execution_count": null,
      "outputs": [
        {
          "output_type": "stream",
          "text": [
            "23837\n"
          ],
          "name": "stdout"
        }
      ]
    },
    {
      "cell_type": "code",
      "metadata": {
        "id": "eeZWtFMKMAC5",
        "colab_type": "code",
        "colab": {}
      },
      "source": [
        "working_dir = \"drive/My Drive/Pathology/histopathologic-cancer-detection/\""
      ],
      "execution_count": null,
      "outputs": []
    },
    {
      "cell_type": "code",
      "metadata": {
        "id": "VdvVGKGBMooy",
        "colab_type": "code",
        "colab": {
          "base_uri": "https://localhost:8080/",
          "height": 52
        },
        "outputId": "66a57df7-4df1-49d2-c7fa-246a4398b926"
      },
      "source": [
        "import numpy as np # linear algebra\n",
        "import pandas as pd # data processing, CSV file I/O (e.g. pd.read_csv)\n",
        "import glob\n",
        "import random\n",
        "from sklearn.utils import shuffle\n",
        "from sklearn.model_selection import train_test_split\n",
        "from sklearn.metrics import roc_auc_score\n",
        "# Input data files are available in the \"../input/\" directory.\n",
        "# For example, running this (by clicking run or pressing Shift+Enter) will list the files in the input directory\n",
        "import cv2\n",
        "import imgaug as ia\n",
        "import imgaug.augmenters as iaa\n",
        "import os\n",
        "print(os.listdir(working_dir))\n",
        "import tensorflow.compat.v1 as tf\n",
        "tf.disable_v2_behavior()\n",
        "tf.__version__"
      ],
      "execution_count": null,
      "outputs": [
        {
          "output_type": "stream",
          "text": [
            "['test', 'train', 'train_labels.csv', 'sample_submission.csv']\n"
          ],
          "name": "stdout"
        },
        {
          "output_type": "execute_result",
          "data": {
            "text/plain": [
              "'2.2.0-rc4'"
            ]
          },
          "metadata": {
            "tags": []
          },
          "execution_count": 15
        }
      ]
    },
    {
      "cell_type": "code",
      "metadata": {
        "id": "FkELVTyrMuTS",
        "colab_type": "code",
        "colab": {}
      },
      "source": [
        "df = pd.read_csv( working_dir + 'train_labels.csv')"
      ],
      "execution_count": null,
      "outputs": []
    },
    {
      "cell_type": "code",
      "metadata": {
        "id": "KCuPXNqWOPJT",
        "colab_type": "code",
        "colab": {
          "base_uri": "https://localhost:8080/",
          "height": 266
        },
        "outputId": "796a01fd-d989-46dd-d7e0-eec68a375890"
      },
      "source": [
        "df.head"
      ],
      "execution_count": null,
      "outputs": [
        {
          "output_type": "execute_result",
          "data": {
            "text/plain": [
              "<bound method NDFrame.head of                                               id  label\n",
              "0       f38a6374c348f90b587e046aac6079959adf3835      0\n",
              "1       c18f2d887b7ae4f6742ee445113fa1aef383ed77      1\n",
              "2       755db6279dae599ebb4d39a9123cce439965282d      0\n",
              "3       bc3f0c64fb968ff4a8bd33af6971ecae77c75e08      0\n",
              "4       068aba587a4950175d04c680d38943fd488d6a9d      0\n",
              "...                                          ...    ...\n",
              "220020  53e9aa9d46e720bf3c6a7528d1fca3ba6e2e49f6      0\n",
              "220021  d4b854fe38b07fe2831ad73892b3cec877689576      1\n",
              "220022  3d046cead1a2a5cbe00b2b4847cfb7ba7cf5fe75      0\n",
              "220023  f129691c13433f66e1e0671ff1fe80944816f5a2      0\n",
              "220024  a81f84895ddcd522302ddf34be02eb1b3e5af1cb      1\n",
              "\n",
              "[220025 rows x 2 columns]>"
            ]
          },
          "metadata": {
            "tags": []
          },
          "execution_count": 17
        }
      ]
    },
    {
      "cell_type": "code",
      "metadata": {
        "id": "c5c2pKQfOTbX",
        "colab_type": "code",
        "colab": {}
      },
      "source": [
        "df_train_paths = glob.glob(working_dir + 'train/*.tif')\n",
        "df_test_paths = glob.glob(working_dir + 'test/*.tif')"
      ],
      "execution_count": null,
      "outputs": []
    },
    {
      "cell_type": "code",
      "metadata": {
        "id": "WYF9w1NJOlwI",
        "colab_type": "code",
        "colab": {
          "base_uri": "https://localhost:8080/",
          "height": 35
        },
        "outputId": "2e311d99-3924-46a8-fb55-a13a342f76b0"
      },
      "source": [
        "len(df_train_paths)"
      ],
      "execution_count": null,
      "outputs": [
        {
          "output_type": "execute_result",
          "data": {
            "text/plain": [
              "23837"
            ]
          },
          "metadata": {
            "tags": []
          },
          "execution_count": 19
        }
      ]
    },
    {
      "cell_type": "code",
      "metadata": {
        "id": "myLf0hbJOna1",
        "colab_type": "code",
        "colab": {
          "base_uri": "https://localhost:8080/",
          "height": 106
        },
        "outputId": "248945f7-f059-4f03-8e89-d68a2d38a088"
      },
      "source": [
        "df_train_paths[:5]"
      ],
      "execution_count": null,
      "outputs": [
        {
          "output_type": "execute_result",
          "data": {
            "text/plain": [
              "['drive/My Drive/Pathology/histopathologic-cancer-detection/train/7817d5c8c1d05afc5a8809f69677666ddc92931d.tif',\n",
              " 'drive/My Drive/Pathology/histopathologic-cancer-detection/train/80a096b61f7f51d1b168645c56fae2b0d05884dc.tif',\n",
              " 'drive/My Drive/Pathology/histopathologic-cancer-detection/train/baa0ff233737846b1c41957a81d7d274d8344bd1.tif',\n",
              " 'drive/My Drive/Pathology/histopathologic-cancer-detection/train/b60fd9f1191a6473386254d4282216074a30e16d.tif',\n",
              " 'drive/My Drive/Pathology/histopathologic-cancer-detection/train/c82504849073f22d299d2dae0493b2c45e0cfc9a.tif']"
            ]
          },
          "metadata": {
            "tags": []
          },
          "execution_count": 20
        }
      ]
    },
    {
      "cell_type": "code",
      "metadata": {
        "id": "8DDuhGEDPacp",
        "colab_type": "code",
        "colab": {
          "base_uri": "https://localhost:8080/",
          "height": 70
        },
        "outputId": "aa7dda74-c3be-460f-d87d-ff7da4b284d7"
      },
      "source": [
        "df['label'].value_counts()"
      ],
      "execution_count": null,
      "outputs": [
        {
          "output_type": "execute_result",
          "data": {
            "text/plain": [
              "0    130908\n",
              "1     89117\n",
              "Name: label, dtype: int64"
            ]
          },
          "metadata": {
            "tags": []
          },
          "execution_count": 21
        }
      ]
    },
    {
      "cell_type": "code",
      "metadata": {
        "id": "aFjYC7AnPfE8",
        "colab_type": "code",
        "colab": {}
      },
      "source": [
        "def label_mapping(data):\n",
        "    return data.split('/')[-1].replace('.tif','')"
      ],
      "execution_count": null,
      "outputs": []
    },
    {
      "cell_type": "code",
      "metadata": {
        "id": "xvk8uvdCPtJJ",
        "colab_type": "code",
        "colab": {
          "base_uri": "https://localhost:8080/",
          "height": 35
        },
        "outputId": "e8e762de-fb86-4d29-f9d4-9cc17d6d0c9f"
      },
      "source": [
        "label_mapping('drive/My Drive/Pathology/histopathologic-cancer-detection/train/7817d5c8c1d05afc5a8809f69677666ddc92931d.tif')"
      ],
      "execution_count": null,
      "outputs": [
        {
          "output_type": "execute_result",
          "data": {
            "text/plain": [
              "'7817d5c8c1d05afc5a8809f69677666ddc92931d'"
            ]
          },
          "metadata": {
            "tags": []
          },
          "execution_count": 23
        }
      ]
    },
    {
      "cell_type": "code",
      "metadata": {
        "id": "eYMZNwxXP0FW",
        "colab_type": "code",
        "colab": {}
      },
      "source": [
        "id_label = {k:v for k,v in zip(df.id.values,df.label.values)}"
      ],
      "execution_count": null,
      "outputs": []
    },
    {
      "cell_type": "code",
      "metadata": {
        "id": "5vcFJb3hQQqa",
        "colab_type": "code",
        "colab": {}
      },
      "source": [
        "def give_label(img_path):\n",
        "    return id_label[img_path]\n",
        "\n",
        "def get_batch(data, batch_size):\n",
        "    return (data[i:i+batch_size] for i in range(0, len(data), batch_size))   \n",
        "\n",
        "def data_aug(img_data,train_label_mapping,batch_size,augment = False):\n",
        "    seq = get_seq()\n",
        "    while True:\n",
        "        random.shuffle(img_data)\n",
        "        for batch in get_batch(img_data,batch_size):\n",
        "            X = [cv2.imread(img_path) for img_path in batch]\n",
        "            y = [train_label_mapping[get_id_from_img_path(img_path)] for img_path in batch]\n",
        "            \n",
        "            if augment:\n",
        "                X = seq.augment_images(X)\n",
        "    \n",
        "            yield np.array(X), np.array(y)"
      ],
      "execution_count": null,
      "outputs": []
    },
    {
      "cell_type": "code",
      "metadata": {
        "id": "W7ascUIcQagQ",
        "colab_type": "code",
        "colab": {}
      },
      "source": [
        "df_main = pd.DataFrame({'img_path':df_train_paths})"
      ],
      "execution_count": null,
      "outputs": []
    },
    {
      "cell_type": "code",
      "metadata": {
        "id": "TZihMCMWRfw2",
        "colab_type": "code",
        "colab": {
          "base_uri": "https://localhost:8080/",
          "height": 194
        },
        "outputId": "9b311a46-7843-40ae-f18c-da5d3634b8fe"
      },
      "source": [
        "df_main.head()"
      ],
      "execution_count": null,
      "outputs": [
        {
          "output_type": "execute_result",
          "data": {
            "text/html": [
              "<div>\n",
              "<style scoped>\n",
              "    .dataframe tbody tr th:only-of-type {\n",
              "        vertical-align: middle;\n",
              "    }\n",
              "\n",
              "    .dataframe tbody tr th {\n",
              "        vertical-align: top;\n",
              "    }\n",
              "\n",
              "    .dataframe thead th {\n",
              "        text-align: right;\n",
              "    }\n",
              "</style>\n",
              "<table border=\"1\" class=\"dataframe\">\n",
              "  <thead>\n",
              "    <tr style=\"text-align: right;\">\n",
              "      <th></th>\n",
              "      <th>img_path</th>\n",
              "    </tr>\n",
              "  </thead>\n",
              "  <tbody>\n",
              "    <tr>\n",
              "      <th>0</th>\n",
              "      <td>drive/My Drive/Pathology/histopathologic-cance...</td>\n",
              "    </tr>\n",
              "    <tr>\n",
              "      <th>1</th>\n",
              "      <td>drive/My Drive/Pathology/histopathologic-cance...</td>\n",
              "    </tr>\n",
              "    <tr>\n",
              "      <th>2</th>\n",
              "      <td>drive/My Drive/Pathology/histopathologic-cance...</td>\n",
              "    </tr>\n",
              "    <tr>\n",
              "      <th>3</th>\n",
              "      <td>drive/My Drive/Pathology/histopathologic-cance...</td>\n",
              "    </tr>\n",
              "    <tr>\n",
              "      <th>4</th>\n",
              "      <td>drive/My Drive/Pathology/histopathologic-cance...</td>\n",
              "    </tr>\n",
              "  </tbody>\n",
              "</table>\n",
              "</div>"
            ],
            "text/plain": [
              "                                            img_path\n",
              "0  drive/My Drive/Pathology/histopathologic-cance...\n",
              "1  drive/My Drive/Pathology/histopathologic-cance...\n",
              "2  drive/My Drive/Pathology/histopathologic-cance...\n",
              "3  drive/My Drive/Pathology/histopathologic-cance...\n",
              "4  drive/My Drive/Pathology/histopathologic-cance..."
            ]
          },
          "metadata": {
            "tags": []
          },
          "execution_count": 27
        }
      ]
    },
    {
      "cell_type": "code",
      "metadata": {
        "id": "L7YFpcR_RhlE",
        "colab_type": "code",
        "colab": {}
      },
      "source": [
        "df_main['id'] = df_main['img_path'].apply(label_mapping)"
      ],
      "execution_count": null,
      "outputs": []
    },
    {
      "cell_type": "code",
      "metadata": {
        "id": "hlWvOSGMSXKf",
        "colab_type": "code",
        "colab": {
          "base_uri": "https://localhost:8080/",
          "height": 194
        },
        "outputId": "038a29b8-5443-46be-c962-0789b1010ac0"
      },
      "source": [
        "df_main.tail()"
      ],
      "execution_count": null,
      "outputs": [
        {
          "output_type": "execute_result",
          "data": {
            "text/html": [
              "<div>\n",
              "<style scoped>\n",
              "    .dataframe tbody tr th:only-of-type {\n",
              "        vertical-align: middle;\n",
              "    }\n",
              "\n",
              "    .dataframe tbody tr th {\n",
              "        vertical-align: top;\n",
              "    }\n",
              "\n",
              "    .dataframe thead th {\n",
              "        text-align: right;\n",
              "    }\n",
              "</style>\n",
              "<table border=\"1\" class=\"dataframe\">\n",
              "  <thead>\n",
              "    <tr style=\"text-align: right;\">\n",
              "      <th></th>\n",
              "      <th>img_path</th>\n",
              "      <th>id</th>\n",
              "    </tr>\n",
              "  </thead>\n",
              "  <tbody>\n",
              "    <tr>\n",
              "      <th>23832</th>\n",
              "      <td>drive/My Drive/Pathology/histopathologic-cance...</td>\n",
              "      <td>39a92a087b89ab26ccc43f1b31a219b4fce809d7</td>\n",
              "    </tr>\n",
              "    <tr>\n",
              "      <th>23833</th>\n",
              "      <td>drive/My Drive/Pathology/histopathologic-cance...</td>\n",
              "      <td>1ea908dfe7ec04c063dfa2fded02180760dbfa53</td>\n",
              "    </tr>\n",
              "    <tr>\n",
              "      <th>23834</th>\n",
              "      <td>drive/My Drive/Pathology/histopathologic-cance...</td>\n",
              "      <td>273ecf4b720df85e42e6cd941c7c799772b6bd04</td>\n",
              "    </tr>\n",
              "    <tr>\n",
              "      <th>23835</th>\n",
              "      <td>drive/My Drive/Pathology/histopathologic-cance...</td>\n",
              "      <td>67d8d8312b1a8179cfd80bcdb67c37d84977a06c</td>\n",
              "    </tr>\n",
              "    <tr>\n",
              "      <th>23836</th>\n",
              "      <td>drive/My Drive/Pathology/histopathologic-cance...</td>\n",
              "      <td>9337e9a0c398985ee1ee12f0b6d23cd65a7a125e</td>\n",
              "    </tr>\n",
              "  </tbody>\n",
              "</table>\n",
              "</div>"
            ],
            "text/plain": [
              "                                                img_path                                        id\n",
              "23832  drive/My Drive/Pathology/histopathologic-cance...  39a92a087b89ab26ccc43f1b31a219b4fce809d7\n",
              "23833  drive/My Drive/Pathology/histopathologic-cance...  1ea908dfe7ec04c063dfa2fded02180760dbfa53\n",
              "23834  drive/My Drive/Pathology/histopathologic-cance...  273ecf4b720df85e42e6cd941c7c799772b6bd04\n",
              "23835  drive/My Drive/Pathology/histopathologic-cance...  67d8d8312b1a8179cfd80bcdb67c37d84977a06c\n",
              "23836  drive/My Drive/Pathology/histopathologic-cance...  9337e9a0c398985ee1ee12f0b6d23cd65a7a125e"
            ]
          },
          "metadata": {
            "tags": []
          },
          "execution_count": 29
        }
      ]
    },
    {
      "cell_type": "code",
      "metadata": {
        "id": "DFqpjjMgSZpw",
        "colab_type": "code",
        "colab": {}
      },
      "source": [
        "df = df.merge(df_main,on='id')"
      ],
      "execution_count": null,
      "outputs": []
    },
    {
      "cell_type": "code",
      "metadata": {
        "id": "qkndYTmFStC0",
        "colab_type": "code",
        "colab": {
          "base_uri": "https://localhost:8080/",
          "height": 282
        },
        "outputId": "c4c0d984-358f-42ba-be90-4925a9882186"
      },
      "source": [
        "df.describe()"
      ],
      "execution_count": null,
      "outputs": [
        {
          "output_type": "execute_result",
          "data": {
            "text/html": [
              "<div>\n",
              "<style scoped>\n",
              "    .dataframe tbody tr th:only-of-type {\n",
              "        vertical-align: middle;\n",
              "    }\n",
              "\n",
              "    .dataframe tbody tr th {\n",
              "        vertical-align: top;\n",
              "    }\n",
              "\n",
              "    .dataframe thead th {\n",
              "        text-align: right;\n",
              "    }\n",
              "</style>\n",
              "<table border=\"1\" class=\"dataframe\">\n",
              "  <thead>\n",
              "    <tr style=\"text-align: right;\">\n",
              "      <th></th>\n",
              "      <th>label</th>\n",
              "    </tr>\n",
              "  </thead>\n",
              "  <tbody>\n",
              "    <tr>\n",
              "      <th>count</th>\n",
              "      <td>23837.000000</td>\n",
              "    </tr>\n",
              "    <tr>\n",
              "      <th>mean</th>\n",
              "      <td>0.406553</td>\n",
              "    </tr>\n",
              "    <tr>\n",
              "      <th>std</th>\n",
              "      <td>0.491200</td>\n",
              "    </tr>\n",
              "    <tr>\n",
              "      <th>min</th>\n",
              "      <td>0.000000</td>\n",
              "    </tr>\n",
              "    <tr>\n",
              "      <th>25%</th>\n",
              "      <td>0.000000</td>\n",
              "    </tr>\n",
              "    <tr>\n",
              "      <th>50%</th>\n",
              "      <td>0.000000</td>\n",
              "    </tr>\n",
              "    <tr>\n",
              "      <th>75%</th>\n",
              "      <td>1.000000</td>\n",
              "    </tr>\n",
              "    <tr>\n",
              "      <th>max</th>\n",
              "      <td>1.000000</td>\n",
              "    </tr>\n",
              "  </tbody>\n",
              "</table>\n",
              "</div>"
            ],
            "text/plain": [
              "              label\n",
              "count  23837.000000\n",
              "mean       0.406553\n",
              "std        0.491200\n",
              "min        0.000000\n",
              "25%        0.000000\n",
              "50%        0.000000\n",
              "75%        1.000000\n",
              "max        1.000000"
            ]
          },
          "metadata": {
            "tags": []
          },
          "execution_count": 31
        }
      ]
    },
    {
      "cell_type": "code",
      "metadata": {
        "id": "rQqgQjXOS6fn",
        "colab_type": "code",
        "colab": {}
      },
      "source": [
        "df0 = df[df['label'] == 0].sample(5000,random_state=42)\n",
        "df1 = df[df['label'] == 1].sample(5000,random_state=42)"
      ],
      "execution_count": null,
      "outputs": []
    },
    {
      "cell_type": "code",
      "metadata": {
        "id": "GcS8Um5HTGHL",
        "colab_type": "code",
        "colab": {}
      },
      "source": [
        "df = pd.concat([df0,df1], ignore_index=True)"
      ],
      "execution_count": null,
      "outputs": []
    },
    {
      "cell_type": "code",
      "metadata": {
        "id": "xlo-qPZCTLOJ",
        "colab_type": "code",
        "colab": {
          "base_uri": "https://localhost:8080/",
          "height": 282
        },
        "outputId": "3aeb9ed9-4e03-419c-d153-08ac043cedcb"
      },
      "source": [
        "df.describe()"
      ],
      "execution_count": null,
      "outputs": [
        {
          "output_type": "execute_result",
          "data": {
            "text/html": [
              "<div>\n",
              "<style scoped>\n",
              "    .dataframe tbody tr th:only-of-type {\n",
              "        vertical-align: middle;\n",
              "    }\n",
              "\n",
              "    .dataframe tbody tr th {\n",
              "        vertical-align: top;\n",
              "    }\n",
              "\n",
              "    .dataframe thead th {\n",
              "        text-align: right;\n",
              "    }\n",
              "</style>\n",
              "<table border=\"1\" class=\"dataframe\">\n",
              "  <thead>\n",
              "    <tr style=\"text-align: right;\">\n",
              "      <th></th>\n",
              "      <th>label</th>\n",
              "    </tr>\n",
              "  </thead>\n",
              "  <tbody>\n",
              "    <tr>\n",
              "      <th>count</th>\n",
              "      <td>10000.000000</td>\n",
              "    </tr>\n",
              "    <tr>\n",
              "      <th>mean</th>\n",
              "      <td>0.500000</td>\n",
              "    </tr>\n",
              "    <tr>\n",
              "      <th>std</th>\n",
              "      <td>0.500025</td>\n",
              "    </tr>\n",
              "    <tr>\n",
              "      <th>min</th>\n",
              "      <td>0.000000</td>\n",
              "    </tr>\n",
              "    <tr>\n",
              "      <th>25%</th>\n",
              "      <td>0.000000</td>\n",
              "    </tr>\n",
              "    <tr>\n",
              "      <th>50%</th>\n",
              "      <td>0.500000</td>\n",
              "    </tr>\n",
              "    <tr>\n",
              "      <th>75%</th>\n",
              "      <td>1.000000</td>\n",
              "    </tr>\n",
              "    <tr>\n",
              "      <th>max</th>\n",
              "      <td>1.000000</td>\n",
              "    </tr>\n",
              "  </tbody>\n",
              "</table>\n",
              "</div>"
            ],
            "text/plain": [
              "              label\n",
              "count  10000.000000\n",
              "mean       0.500000\n",
              "std        0.500025\n",
              "min        0.000000\n",
              "25%        0.000000\n",
              "50%        0.500000\n",
              "75%        1.000000\n",
              "max        1.000000"
            ]
          },
          "metadata": {
            "tags": []
          },
          "execution_count": 34
        }
      ]
    },
    {
      "cell_type": "code",
      "metadata": {
        "id": "iJX6zasDTmx_",
        "colab_type": "code",
        "colab": {}
      },
      "source": [
        "df_train, df_val = train_test_split(df, random_state=42,test_size=0.2)"
      ],
      "execution_count": null,
      "outputs": []
    },
    {
      "cell_type": "code",
      "metadata": {
        "id": "umSKi7AETrwh",
        "colab_type": "code",
        "colab": {
          "base_uri": "https://localhost:8080/",
          "height": 194
        },
        "outputId": "0e852e5b-a6c8-41df-8b89-663b7fe8edad"
      },
      "source": [
        "df_train.head()"
      ],
      "execution_count": null,
      "outputs": [
        {
          "output_type": "execute_result",
          "data": {
            "text/html": [
              "<div>\n",
              "<style scoped>\n",
              "    .dataframe tbody tr th:only-of-type {\n",
              "        vertical-align: middle;\n",
              "    }\n",
              "\n",
              "    .dataframe tbody tr th {\n",
              "        vertical-align: top;\n",
              "    }\n",
              "\n",
              "    .dataframe thead th {\n",
              "        text-align: right;\n",
              "    }\n",
              "</style>\n",
              "<table border=\"1\" class=\"dataframe\">\n",
              "  <thead>\n",
              "    <tr style=\"text-align: right;\">\n",
              "      <th></th>\n",
              "      <th>id</th>\n",
              "      <th>label</th>\n",
              "      <th>img_path</th>\n",
              "    </tr>\n",
              "  </thead>\n",
              "  <tbody>\n",
              "    <tr>\n",
              "      <th>9254</th>\n",
              "      <td>41f84df42dccdbf0b650795333e400c8144b250c</td>\n",
              "      <td>1</td>\n",
              "      <td>drive/My Drive/Pathology/histopathologic-cance...</td>\n",
              "    </tr>\n",
              "    <tr>\n",
              "      <th>1561</th>\n",
              "      <td>7597323fff3d0847439a359fb4746338b3bf77f2</td>\n",
              "      <td>0</td>\n",
              "      <td>drive/My Drive/Pathology/histopathologic-cance...</td>\n",
              "    </tr>\n",
              "    <tr>\n",
              "      <th>1670</th>\n",
              "      <td>57360b064d0a25d8f78f17f620c2e95cb4f62a36</td>\n",
              "      <td>0</td>\n",
              "      <td>drive/My Drive/Pathology/histopathologic-cance...</td>\n",
              "    </tr>\n",
              "    <tr>\n",
              "      <th>6087</th>\n",
              "      <td>c27eae71ce9c806318acdb553112ebea360f5f50</td>\n",
              "      <td>1</td>\n",
              "      <td>drive/My Drive/Pathology/histopathologic-cance...</td>\n",
              "    </tr>\n",
              "    <tr>\n",
              "      <th>6669</th>\n",
              "      <td>66a5594bef08f73cff1b8e173cf9f2389bbb19a6</td>\n",
              "      <td>1</td>\n",
              "      <td>drive/My Drive/Pathology/histopathologic-cance...</td>\n",
              "    </tr>\n",
              "  </tbody>\n",
              "</table>\n",
              "</div>"
            ],
            "text/plain": [
              "                                            id  ...                                           img_path\n",
              "9254  41f84df42dccdbf0b650795333e400c8144b250c  ...  drive/My Drive/Pathology/histopathologic-cance...\n",
              "1561  7597323fff3d0847439a359fb4746338b3bf77f2  ...  drive/My Drive/Pathology/histopathologic-cance...\n",
              "1670  57360b064d0a25d8f78f17f620c2e95cb4f62a36  ...  drive/My Drive/Pathology/histopathologic-cance...\n",
              "6087  c27eae71ce9c806318acdb553112ebea360f5f50  ...  drive/My Drive/Pathology/histopathologic-cance...\n",
              "6669  66a5594bef08f73cff1b8e173cf9f2389bbb19a6  ...  drive/My Drive/Pathology/histopathologic-cance...\n",
              "\n",
              "[5 rows x 3 columns]"
            ]
          },
          "metadata": {
            "tags": []
          },
          "execution_count": 36
        }
      ]
    },
    {
      "cell_type": "code",
      "metadata": {
        "id": "7wlylz6DTvO4",
        "colab_type": "code",
        "colab": {
          "base_uri": "https://localhost:8080/",
          "height": 35
        },
        "outputId": "39c45f26-f067-47ac-bed6-c3e04e0aeed9"
      },
      "source": [
        "df_val.shape"
      ],
      "execution_count": null,
      "outputs": [
        {
          "output_type": "execute_result",
          "data": {
            "text/plain": [
              "(2000, 3)"
            ]
          },
          "metadata": {
            "tags": []
          },
          "execution_count": 37
        }
      ]
    },
    {
      "cell_type": "code",
      "metadata": {
        "id": "CilSdKj8Tyg8",
        "colab_type": "code",
        "colab": {}
      },
      "source": [
        "train_imgs = [cv2.imread(img_path) for img_path in list(df_train['img_path'])]\n",
        "val_imgs = [cv2.imread(img_path) for img_path in list(df_val['img_path'])]"
      ],
      "execution_count": null,
      "outputs": []
    },
    {
      "cell_type": "code",
      "metadata": {
        "id": "3GN1ULF9T68x",
        "colab_type": "code",
        "colab": {
          "base_uri": "https://localhost:8080/",
          "height": 113
        },
        "outputId": "08354177-9d97-40c0-9b0b-091aa8f7974f"
      },
      "source": [
        "from google.colab.patches import cv2_imshow\n",
        "cv2_imshow(train_imgs[100])\n"
      ],
      "execution_count": null,
      "outputs": [
        {
          "output_type": "display_data",
          "data": {
            "image/png": "[encoded data removed]",
            "text/plain": [
              "<PIL.Image.Image image mode=RGB size=96x96 at 0x7FF963246A58>"
            ]
          },
          "metadata": {
            "tags": []
          }
        }
      ]
    },
    {
      "cell_type": "code",
      "metadata": {
        "id": "lLpHbPGQW73t",
        "colab_type": "code",
        "colab": {
          "base_uri": "https://localhost:8080/",
          "height": 34
        },
        "outputId": "8bdfa34a-b240-4303-bf7d-acc16f3bdf06"
      },
      "source": [
        "train_imgs[3].shape"
      ],
      "execution_count": null,
      "outputs": [
        {
          "output_type": "execute_result",
          "data": {
            "text/plain": [
              "(96, 96, 3)"
            ]
          },
          "metadata": {
            "tags": []
          },
          "execution_count": 31
        }
      ]
    },
    {
      "cell_type": "code",
      "metadata": {
        "id": "ik9DG0yJfAve",
        "colab_type": "code",
        "colab": {}
      },
      "source": [
        "train_imgs = np.array(train_imgs)\n",
        "val_imgs = np.array(val_imgs)"
      ],
      "execution_count": null,
      "outputs": []
    },
    {
      "cell_type": "code",
      "metadata": {
        "id": "sI-XWgVs-kTs",
        "colab_type": "code",
        "colab": {
          "base_uri": "https://localhost:8080/",
          "height": 34
        },
        "outputId": "ff0ce51c-9b3d-4b2d-cac9-00704869f186"
      },
      "source": [
        "train_imgs.shape"
      ],
      "execution_count": null,
      "outputs": [
        {
          "output_type": "execute_result",
          "data": {
            "text/plain": [
              "(8000, 96, 96, 3)"
            ]
          },
          "metadata": {
            "tags": []
          },
          "execution_count": 33
        }
      ]
    },
    {
      "cell_type": "code",
      "metadata": {
        "id": "eYOPOW-H-qGk",
        "colab_type": "code",
        "colab": {
          "base_uri": "https://localhost:8080/",
          "height": 34
        },
        "outputId": "faa87a6d-8ef2-4b59-d3ba-a50bf64aa2c1"
      },
      "source": [
        "val_imgs.shape"
      ],
      "execution_count": null,
      "outputs": [
        {
          "output_type": "execute_result",
          "data": {
            "text/plain": [
              "(2000, 96, 96, 3)"
            ]
          },
          "metadata": {
            "tags": []
          },
          "execution_count": 36
        }
      ]
    },
    {
      "cell_type": "code",
      "metadata": {
        "id": "BSKioAWEtIjL",
        "colab_type": "code",
        "colab": {}
      },
      "source": [
        "#train_images = train_images.reshape((500, 96, 96, 3))\n",
        "#train_images = train_images.astype('float32') / 255\n",
        "\n",
        "#test_images = test_images.reshape((500, 28, 28, 1))\n",
        "#test_images = test_images.astype('float32') / 255\n",
        "\n",
        "\n",
        "train_imgs = train_imgs.astype('float32') / 255\n",
        "val_imgs = val_imgs.astype('float32') / 255"
      ],
      "execution_count": null,
      "outputs": []
    },
    {
      "cell_type": "code",
      "metadata": {
        "id": "nrZ0PhNx-7N2",
        "colab_type": "code",
        "colab": {
          "base_uri": "https://localhost:8080/",
          "height": 850
        },
        "outputId": "4eaecc6b-cb29-4593-ac4e-48c14ca7fdc8"
      },
      "source": [
        "train_imgs[1]"
      ],
      "execution_count": null,
      "outputs": [
        {
          "output_type": "execute_result",
          "data": {
            "text/plain": [
              "array([[[0.6431373 , 0.5294118 , 0.72156864],\n",
              "        [0.21176471, 0.08627451, 0.2784314 ],\n",
              "        [0.36078432, 0.20784314, 0.4117647 ],\n",
              "        ...,\n",
              "        [0.13333334, 0.        , 0.07058824],\n",
              "        [0.2901961 , 0.15686275, 0.2509804 ],\n",
              "        [1.        , 0.9607843 , 1.        ]],\n",
              "\n",
              "       [[0.7647059 , 0.6156863 , 0.8039216 ],\n",
              "        [0.4       , 0.2509804 , 0.4392157 ],\n",
              "        [0.25490198, 0.10588235, 0.3019608 ],\n",
              "        ...,\n",
              "        [0.31764707, 0.1254902 , 0.2509804 ],\n",
              "        [0.2784314 , 0.14509805, 0.23921569],\n",
              "        [0.69411767, 0.61960787, 0.6862745 ]],\n",
              "\n",
              "       [[0.5647059 , 0.36078432, 0.54509807],\n",
              "        [0.37254903, 0.18431373, 0.37254903],\n",
              "        [0.35686275, 0.20392157, 0.38431373],\n",
              "        ...,\n",
              "        [0.32941177, 0.14509805, 0.27058825],\n",
              "        [0.3019608 , 0.1764706 , 0.27450982],\n",
              "        [0.44313726, 0.3529412 , 0.4392157 ]],\n",
              "\n",
              "       ...,\n",
              "\n",
              "       [[0.7921569 , 0.6862745 , 0.8392157 ],\n",
              "        [0.60784316, 0.5137255 , 0.64705884],\n",
              "        [0.89411765, 0.8352941 , 0.94509804],\n",
              "        ...,\n",
              "        [0.96862745, 0.90588236, 1.        ],\n",
              "        [0.93333334, 0.8980392 , 1.        ],\n",
              "        [0.9411765 , 0.93333334, 1.        ]],\n",
              "\n",
              "       [[0.2509804 , 0.09803922, 0.22352941],\n",
              "        [0.6627451 , 0.5294118 , 0.6509804 ],\n",
              "        [0.9490196 , 0.8509804 , 0.9607843 ],\n",
              "        ...,\n",
              "        [0.9764706 , 0.8862745 , 1.        ],\n",
              "        [0.8862745 , 0.81960785, 0.9490196 ],\n",
              "        [0.84705883, 0.8       , 0.91764706]],\n",
              "\n",
              "       [[0.18039216, 0.        , 0.10196079],\n",
              "        [0.49803922, 0.3254902 , 0.4392157 ],\n",
              "        [0.70980394, 0.5764706 , 0.69411767],\n",
              "        ...,\n",
              "        [0.56078434, 0.4509804 , 0.61960787],\n",
              "        [0.8901961 , 0.79607844, 0.9529412 ],\n",
              "        [0.7921569 , 0.7176471 , 0.87058824]]], dtype=float32)"
            ]
          },
          "metadata": {
            "tags": []
          },
          "execution_count": 38
        }
      ]
    },
    {
      "cell_type": "code",
      "metadata": {
        "id": "HEXV91biVtFI",
        "colab_type": "code",
        "colab": {
          "base_uri": "https://localhost:8080/",
          "height": 190
        },
        "outputId": "f31680e3-4ea9-4039-afde-9f228e541031"
      },
      "source": [
        "from keras import layers\n",
        "from keras import models\n",
        "\n",
        "model = models.Sequential()\n",
        "model.add(layers.Conv2D(32, (3, 3), activation='relu',\n",
        "                        input_shape=(96, 96, 3)))\n",
        "model.add(layers.MaxPooling2D((2, 2)))\n",
        "model.add(layers.Conv2D(64, (3, 3), activation='relu'))\n",
        "model.add(layers.MaxPooling2D((2, 2)))\n",
        "model.add(layers.Conv2D(128, (3, 3), activation='relu'))\n",
        "model.add(layers.MaxPooling2D((2, 2)))\n",
        "model.add(layers.Conv2D(128, (3, 3), activation='relu'))\n",
        "model.add(layers.MaxPooling2D((2, 2)))\n",
        "model.add(layers.Flatten())\n",
        "model.add(layers.Dense(512, activation='relu'))\n",
        "model.add(layers.Dense(1, activation='sigmoid'))"
      ],
      "execution_count": null,
      "outputs": [
        {
          "output_type": "stream",
          "text": [
            "WARNING:tensorflow:From /usr/local/lib/python3.6/dist-packages/keras/backend/tensorflow_backend.py:66: The name tf.get_default_graph is deprecated. Please use tf.compat.v1.get_default_graph instead.\n",
            "\n",
            "WARNING:tensorflow:From /usr/local/lib/python3.6/dist-packages/keras/backend/tensorflow_backend.py:541: The name tf.placeholder is deprecated. Please use tf.compat.v1.placeholder instead.\n",
            "\n",
            "WARNING:tensorflow:From /usr/local/lib/python3.6/dist-packages/keras/backend/tensorflow_backend.py:4432: The name tf.random_uniform is deprecated. Please use tf.random.uniform instead.\n",
            "\n",
            "WARNING:tensorflow:From /usr/local/lib/python3.6/dist-packages/keras/backend/tensorflow_backend.py:4267: The name tf.nn.max_pool is deprecated. Please use tf.nn.max_pool2d instead.\n",
            "\n"
          ],
          "name": "stdout"
        },
        {
          "output_type": "stream",
          "text": [
            "Using TensorFlow backend.\n"
          ],
          "name": "stderr"
        }
      ]
    },
    {
      "cell_type": "code",
      "metadata": {
        "id": "_5AA3V9cXI-e",
        "colab_type": "code",
        "colab": {
          "base_uri": "https://localhost:8080/",
          "height": 527
        },
        "outputId": "2d8c9354-a983-422a-9d6c-04eee2be0adf"
      },
      "source": [
        "model.summary()"
      ],
      "execution_count": null,
      "outputs": [
        {
          "output_type": "stream",
          "text": [
            "Model: \"sequential_1\"\n",
            "_________________________________________________________________\n",
            "Layer (type)                 Output Shape              Param #   \n",
            "=================================================================\n",
            "conv2d_1 (Conv2D)            (None, 94, 94, 32)        896       \n",
            "_________________________________________________________________\n",
            "max_pooling2d_1 (MaxPooling2 (None, 47, 47, 32)        0         \n",
            "_________________________________________________________________\n",
            "conv2d_2 (Conv2D)            (None, 45, 45, 64)        18496     \n",
            "_________________________________________________________________\n",
            "max_pooling2d_2 (MaxPooling2 (None, 22, 22, 64)        0         \n",
            "_________________________________________________________________\n",
            "conv2d_3 (Conv2D)            (None, 20, 20, 128)       73856     \n",
            "_________________________________________________________________\n",
            "max_pooling2d_3 (MaxPooling2 (None, 10, 10, 128)       0         \n",
            "_________________________________________________________________\n",
            "conv2d_4 (Conv2D)            (None, 8, 8, 128)         147584    \n",
            "_________________________________________________________________\n",
            "max_pooling2d_4 (MaxPooling2 (None, 4, 4, 128)         0         \n",
            "_________________________________________________________________\n",
            "flatten_1 (Flatten)          (None, 2048)              0         \n",
            "_________________________________________________________________\n",
            "dense_1 (Dense)              (None, 512)               1049088   \n",
            "_________________________________________________________________\n",
            "dense_2 (Dense)              (None, 1)                 513       \n",
            "=================================================================\n",
            "Total params: 1,290,433\n",
            "Trainable params: 1,290,433\n",
            "Non-trainable params: 0\n",
            "_________________________________________________________________\n"
          ],
          "name": "stdout"
        }
      ]
    },
    {
      "cell_type": "code",
      "metadata": {
        "id": "0FRmVNngXPQ6",
        "colab_type": "code",
        "colab": {
          "base_uri": "https://localhost:8080/",
          "height": 156
        },
        "outputId": "f1ef7487-30e6-45b5-dbce-f93380c58260"
      },
      "source": [
        "from keras import optimizers\n",
        "\n",
        "model.compile(loss='binary_crossentropy',\n",
        "              optimizer=optimizers.RMSprop(lr=1e-4),\n",
        "              metrics=['acc'])"
      ],
      "execution_count": null,
      "outputs": [
        {
          "output_type": "stream",
          "text": [
            "WARNING:tensorflow:From /usr/local/lib/python3.6/dist-packages/keras/optimizers.py:793: The name tf.train.Optimizer is deprecated. Please use tf.compat.v1.train.Optimizer instead.\n",
            "\n",
            "WARNING:tensorflow:From /usr/local/lib/python3.6/dist-packages/keras/backend/tensorflow_backend.py:3657: The name tf.log is deprecated. Please use tf.math.log instead.\n",
            "\n",
            "WARNING:tensorflow:From /usr/local/lib/python3.6/dist-packages/tensorflow_core/python/ops/nn_impl.py:183: where (from tensorflow.python.ops.array_ops) is deprecated and will be removed in a future version.\n",
            "Instructions for updating:\n",
            "Use tf.where in 2.0, which has the same broadcast rule as np.where\n"
          ],
          "name": "stdout"
        }
      ]
    },
    {
      "cell_type": "code",
      "metadata": {
        "id": "DIGEibZmdqiP",
        "colab_type": "code",
        "colab": {}
      },
      "source": [
        "# define roc_callback, inspired by https://github.com/keras-team/keras/issues/6050#issuecomment-329996505\n",
        "def auc_roc(y_true, y_pred):\n",
        "    # any tensorflow metric\n",
        "    value, update_op = tf.contrib.metrics.streaming_auc(y_pred, y_true)\n",
        "\n",
        "    # find all variables created for this metric\n",
        "    metric_vars = [i for i in tf.local_variables() if 'auc_roc' in i.name.split('/')[1]]\n",
        "\n",
        "    # Add metric variables to GLOBAL_VARIABLES collection.\n",
        "    # They will be initialized for new session.\n",
        "    for v in metric_vars:\n",
        "        tf.add_to_collection(tf.GraphKeys.GLOBAL_VARIABLES, v)\n",
        "\n",
        "    # force to update metric values\n",
        "    with tf.control_dependencies([update_op]):\n",
        "        value = tf.identity(value)\n",
        "        return value"
      ],
      "execution_count": null,
      "outputs": []
    },
    {
      "cell_type": "code",
      "metadata": {
        "id": "5ovddsCgeCE6",
        "colab_type": "code",
        "colab": {}
      },
      "source": [
        "from keras.callbacks import EarlyStopping, ModelCheckpoint\n",
        "my_callbacks = [EarlyStopping(monitor='auc_roc', patience=300, verbose=1, mode='max')]"
      ],
      "execution_count": null,
      "outputs": []
    },
    {
      "cell_type": "code",
      "metadata": {
        "id": "bf8CuozzeDsI",
        "colab_type": "code",
        "colab": {
          "base_uri": "https://localhost:8080/",
          "height": 1000
        },
        "outputId": "5286398e-dbd2-4d17-fd72-2adcb105a1be"
      },
      "source": [
        "batch_size = 32\n",
        "model.fit(train_imgs,df_train['label'], batch_size = batch_size,epochs=28,validation_data=(val_imgs,df_val['label']), callbacks=my_callbacks)"
      ],
      "execution_count": null,
      "outputs": [
        {
          "output_type": "stream",
          "text": [
            "WARNING:tensorflow:From /usr/local/lib/python3.6/dist-packages/keras/backend/tensorflow_backend.py:1033: The name tf.assign_add is deprecated. Please use tf.compat.v1.assign_add instead.\n",
            "\n",
            "WARNING:tensorflow:From /usr/local/lib/python3.6/dist-packages/keras/backend/tensorflow_backend.py:1020: The name tf.assign is deprecated. Please use tf.compat.v1.assign instead.\n",
            "\n",
            "WARNING:tensorflow:From /usr/local/lib/python3.6/dist-packages/keras/backend/tensorflow_backend.py:3005: The name tf.Session is deprecated. Please use tf.compat.v1.Session instead.\n",
            "\n",
            "Train on 8000 samples, validate on 2000 samples\n",
            "Epoch 1/28\n",
            "WARNING:tensorflow:From /usr/local/lib/python3.6/dist-packages/keras/backend/tensorflow_backend.py:190: The name tf.get_default_session is deprecated. Please use tf.compat.v1.get_default_session instead.\n",
            "\n",
            "WARNING:tensorflow:From /usr/local/lib/python3.6/dist-packages/keras/backend/tensorflow_backend.py:197: The name tf.ConfigProto is deprecated. Please use tf.compat.v1.ConfigProto instead.\n",
            "\n",
            "WARNING:tensorflow:From /usr/local/lib/python3.6/dist-packages/keras/backend/tensorflow_backend.py:207: The name tf.global_variables is deprecated. Please use tf.compat.v1.global_variables instead.\n",
            "\n",
            "WARNING:tensorflow:From /usr/local/lib/python3.6/dist-packages/keras/backend/tensorflow_backend.py:216: The name tf.is_variable_initialized is deprecated. Please use tf.compat.v1.is_variable_initialized instead.\n",
            "\n",
            "WARNING:tensorflow:From /usr/local/lib/python3.6/dist-packages/keras/backend/tensorflow_backend.py:223: The name tf.variables_initializer is deprecated. Please use tf.compat.v1.variables_initializer instead.\n",
            "\n",
            "8000/8000 [==============================] - 159s 20ms/step - loss: 0.5897 - acc: 0.6896 - val_loss: 0.5476 - val_acc: 0.7245\n",
            "Epoch 2/28\n"
          ],
          "name": "stdout"
        },
        {
          "output_type": "stream",
          "text": [
            "/usr/local/lib/python3.6/dist-packages/keras/callbacks.py:842: RuntimeWarning: Early stopping conditioned on metric `auc_roc` which is not available. Available metrics are: val_loss,val_acc,loss,acc\n",
            "  (self.monitor, ','.join(list(logs.keys()))), RuntimeWarning\n"
          ],
          "name": "stderr"
        },
        {
          "output_type": "stream",
          "text": [
            "8000/8000 [==============================] - 156s 19ms/step - loss: 0.5064 - acc: 0.7610 - val_loss: 0.5529 - val_acc: 0.7330\n",
            "Epoch 3/28\n",
            "8000/8000 [==============================] - 159s 20ms/step - loss: 0.4934 - acc: 0.7692 - val_loss: 0.4829 - val_acc: 0.7695\n",
            "Epoch 4/28\n",
            "8000/8000 [==============================] - 163s 20ms/step - loss: 0.4870 - acc: 0.7746 - val_loss: 0.5152 - val_acc: 0.7605\n",
            "Epoch 5/28\n",
            "8000/8000 [==============================] - 157s 20ms/step - loss: 0.4765 - acc: 0.7829 - val_loss: 0.4621 - val_acc: 0.7910\n",
            "Epoch 6/28\n",
            "8000/8000 [==============================] - 156s 20ms/step - loss: 0.4728 - acc: 0.7837 - val_loss: 0.4587 - val_acc: 0.7980\n",
            "Epoch 7/28\n",
            "8000/8000 [==============================] - 151s 19ms/step - loss: 0.4685 - acc: 0.7895 - val_loss: 0.4618 - val_acc: 0.7910\n",
            "Epoch 8/28\n",
            "8000/8000 [==============================] - 146s 18ms/step - loss: 0.4595 - acc: 0.7943 - val_loss: 0.4852 - val_acc: 0.7765\n",
            "Epoch 9/28\n",
            "8000/8000 [==============================] - 147s 18ms/step - loss: 0.4558 - acc: 0.7996 - val_loss: 0.4443 - val_acc: 0.8050\n",
            "Epoch 10/28\n",
            "8000/8000 [==============================] - 147s 18ms/step - loss: 0.4513 - acc: 0.8004 - val_loss: 0.4524 - val_acc: 0.7975\n",
            "Epoch 11/28\n",
            "8000/8000 [==============================] - 145s 18ms/step - loss: 0.4453 - acc: 0.8014 - val_loss: 0.4511 - val_acc: 0.8005\n",
            "Epoch 12/28\n",
            "8000/8000 [==============================] - 153s 19ms/step - loss: 0.4373 - acc: 0.8057 - val_loss: 0.4356 - val_acc: 0.8135\n",
            "Epoch 13/28\n",
            "8000/8000 [==============================] - 153s 19ms/step - loss: 0.4316 - acc: 0.8079 - val_loss: 0.4522 - val_acc: 0.8015\n",
            "Epoch 14/28\n",
            "8000/8000 [==============================] - 155s 19ms/step - loss: 0.4212 - acc: 0.8111 - val_loss: 0.4330 - val_acc: 0.8070\n",
            "Epoch 15/28\n",
            "8000/8000 [==============================] - 165s 21ms/step - loss: 0.4090 - acc: 0.8185 - val_loss: 0.4425 - val_acc: 0.8000\n",
            "Epoch 16/28\n",
            "8000/8000 [==============================] - 160s 20ms/step - loss: 0.4047 - acc: 0.8241 - val_loss: 0.4816 - val_acc: 0.7800\n",
            "Epoch 17/28\n",
            "8000/8000 [==============================] - 155s 19ms/step - loss: 0.3961 - acc: 0.8285 - val_loss: 0.4169 - val_acc: 0.8110\n",
            "Epoch 18/28\n",
            "8000/8000 [==============================] - 156s 20ms/step - loss: 0.3858 - acc: 0.8317 - val_loss: 0.4578 - val_acc: 0.7935\n",
            "Epoch 19/28\n",
            "8000/8000 [==============================] - 158s 20ms/step - loss: 0.3743 - acc: 0.8391 - val_loss: 0.4789 - val_acc: 0.7965\n",
            "Epoch 20/28\n",
            "8000/8000 [==============================] - 161s 20ms/step - loss: 0.3665 - acc: 0.8420 - val_loss: 0.4599 - val_acc: 0.7995\n",
            "Epoch 21/28\n",
            "8000/8000 [==============================] - 155s 19ms/step - loss: 0.3545 - acc: 0.8471 - val_loss: 0.4559 - val_acc: 0.7945\n",
            "Epoch 22/28\n",
            "8000/8000 [==============================] - 162s 20ms/step - loss: 0.3441 - acc: 0.8574 - val_loss: 0.5405 - val_acc: 0.7450\n",
            "Epoch 23/28\n",
            "8000/8000 [==============================] - 161s 20ms/step - loss: 0.3331 - acc: 0.8631 - val_loss: 0.4225 - val_acc: 0.8160\n",
            "Epoch 24/28\n",
            "8000/8000 [==============================] - 164s 20ms/step - loss: 0.3171 - acc: 0.8694 - val_loss: 0.4361 - val_acc: 0.8165\n",
            "Epoch 25/28\n",
            "8000/8000 [==============================] - 168s 21ms/step - loss: 0.3040 - acc: 0.8760 - val_loss: 0.4762 - val_acc: 0.7810\n",
            "Epoch 26/28\n",
            "8000/8000 [==============================] - 174s 22ms/step - loss: 0.2936 - acc: 0.8795 - val_loss: 0.5312 - val_acc: 0.7805\n",
            "Epoch 27/28\n",
            "8000/8000 [==============================] - 165s 21ms/step - loss: 0.2733 - acc: 0.8895 - val_loss: 0.4513 - val_acc: 0.8140\n",
            "Epoch 28/28\n",
            "8000/8000 [==============================] - 166s 21ms/step - loss: 0.2598 - acc: 0.8973 - val_loss: 0.4611 - val_acc: 0.7990\n"
          ],
          "name": "stdout"
        },
        {
          "output_type": "execute_result",
          "data": {
            "text/plain": [
              "<keras.callbacks.History at 0x7ff9626f4dd8>"
            ]
          },
          "metadata": {
            "tags": []
          },
          "execution_count": 44
        }
      ]
    },
    {
      "cell_type": "code",
      "metadata": {
        "id": "bMLT29lUeEBl",
        "colab_type": "code",
        "colab": {
          "base_uri": "https://localhost:8080/",
          "height": 34
        },
        "outputId": "73bac6ea-496d-4bbe-bb4b-3723658ce408"
      },
      "source": [
        "pred = (model.predict(val_imgs).ravel()*model.predict(val_imgs[:,::-1,:,:]).ravel()*model.predict(val_imgs[:,:,::-1,:]).ravel()*model.predict(val_imgs[:,::-1,::-1,:]).ravel())**0.25\n",
        "roc_auc_score(df_val['label'],pred)"
      ],
      "execution_count": null,
      "outputs": [
        {
          "output_type": "execute_result",
          "data": {
            "text/plain": [
              "0.8970531756572947"
            ]
          },
          "metadata": {
            "tags": []
          },
          "execution_count": 45
        }
      ]
    },
    {
      "cell_type": "code",
      "metadata": {
        "id": "RMiGGMMweEKX",
        "colab_type": "code",
        "colab": {}
      },
      "source": [
        "model.save('pathology1_8k_2k.h5')"
      ],
      "execution_count": null,
      "outputs": []
    },
    {
      "cell_type": "code",
      "metadata": {
        "id": "FGBJ0pufeEZ1",
        "colab_type": "code",
        "colab": {}
      },
      "source": [
        "test_imgs = [cv2.imread(img_path) for img_path in df_test_paths]\n",
        "test_imgs = np.array(test_imgs)\n",
        "test_imgs.shape\n",
        "predtest = (model.predict(test_imgs).ravel()*model.predict(test_imgs[:,::-1,:,:]).ravel()*model.predict(test_imgs[:,:,::-1,:]).ravel()*model.predict(test_imgs[:,::-1,::-1,:]).ravel())**0.25\n",
        "id = []\n",
        "for path in df_test_paths:\n",
        "    id.append(label_mapping(path))\n",
        "submit = pd.DataFrame({'id':id,'label':predtest})\n",
        "submit.to_csv(\"sub_new.csv\",index=False)"
      ],
      "execution_count": null,
      "outputs": []
    },
    {
      "cell_type": "markdown",
      "metadata": {
        "id": "CVIUhT7BbxrE",
        "colab_type": "text"
      },
      "source": [
        "Improvement thoughts:\n",
        "\n",
        "1. organize data directory as below. Then use ImageDataGenerator flow_from_directory to save time \n",
        "  Train\n",
        "    Positive\n",
        "    Negative\n",
        "  Test\n",
        "    Positive\n",
        "    Negative\n",
        "2. Load full data set\n",
        "3. Preprosessing\n",
        "4. finetune some CNN parameters"
      ]
    },
    {
      "cell_type": "code",
      "metadata": {
        "id": "YmLl8xmmXdms",
        "colab_type": "code",
        "colab": {}
      },
      "source": [
        "'''\n",
        "from keras.preprocessing.image import ImageDataGenerator\n",
        "\n",
        "# All images will be rescaled by 1./255\n",
        "train_datagen = ImageDataGenerator(rescale=1./255)\n",
        "test_datagen = ImageDataGenerator(rescale=1./255)\n",
        "\n",
        "train_generator = train_datagen.flow_from_dataframe(\n",
        "        # This is the target directory\n",
        "        dataframe = ,\n",
        "        # All images will be resized to 150x150\n",
        "        target_size=(150, 150),\n",
        "        batch_size=20,\n",
        "        # Since we use binary_crossentropy loss, we need binary labels\n",
        "        class_mode='binary')\n",
        "\n",
        "validation_generator = test_datagen.flow_from_directory(\n",
        "        validation_dir,\n",
        "        target_size=(150, 150),\n",
        "        batch_size=20,\n",
        "        class_mode='binary')\n",
        "\n",
        "\n",
        "\n",
        "datagen=ImageDataGenerator(rescale=1./255)\n",
        "train_generator=datagen.flow_from_dataframe(dataframe=df, directory=\".\\train_imgs\", x_col=\"id\", y_col=\"label\", class_mode=\"categorical\", target_size=(32,32), batch_size=32)\n",
        "\n",
        "'''"
      ],
      "execution_count": null,
      "outputs": []
    },
    {
      "cell_type": "code",
      "metadata": {
        "id": "t0O8h3zAdteg",
        "colab_type": "code",
        "colab": {}
      },
      "source": [
        ""
      ],
      "execution_count": null,
      "outputs": []
    }
  ]
}